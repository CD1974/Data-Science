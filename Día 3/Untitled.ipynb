{
 "cells": [
  {
   "cell_type": "code",
   "execution_count": 1,
   "id": "85e5bb47-318b-4dd8-8749-f498fd89bbd1",
   "metadata": {},
   "outputs": [],
   "source": [
    "nombre = \"Ana\""
   ]
  },
  {
   "cell_type": "code",
   "execution_count": 3,
   "id": "3724fc86-3996-4979-b4e2-f33540967e25",
   "metadata": {},
   "outputs": [],
   "source": [
    "edad = 30"
   ]
  },
  {
   "cell_type": "code",
   "execution_count": 5,
   "id": "20cd2d79-e4a8-4b0d-964a-596b61ebd89d",
   "metadata": {},
   "outputs": [],
   "source": [
    "saludo = \"Hola\""
   ]
  },
  {
   "cell_type": "code",
   "execution_count": 7,
   "id": "e650f4af-389c-4e01-bfd2-52ded572b596",
   "metadata": {},
   "outputs": [],
   "source": [
    "frase = saludo + \" \" + nombre + \", tienes \" + str(edad) + \" años\""
   ]
  },
  {
   "cell_type": "code",
   "execution_count": 9,
   "id": "be1208df-ec53-41fb-ba9d-e24bccf5b7fa",
   "metadata": {},
   "outputs": [
    {
     "data": {
      "text/plain": [
       "'Hola Ana, tienes 30 años'"
      ]
     },
     "execution_count": 9,
     "metadata": {},
     "output_type": "execute_result"
    }
   ],
   "source": [
    "frase"
   ]
  },
  {
   "cell_type": "code",
   "execution_count": 17,
   "id": "938e87ac-69ec-47e6-a093-b1fdf2cc1945",
   "metadata": {},
   "outputs": [
    {
     "data": {
      "text/plain": [
       "' Hola Ana, tienes 30 años'"
      ]
     },
     "execution_count": 17,
     "metadata": {},
     "output_type": "execute_result"
    }
   ],
   "source": [
    "frase = \" Hola {}, tienes {} años\".format(nombre, edad)\n",
    "frase"
   ]
  },
  {
   "cell_type": "code",
   "execution_count": 23,
   "id": "5469d7a8-613a-4797-94ba-8bcd60e277a9",
   "metadata": {},
   "outputs": [
    {
     "data": {
      "text/plain": [
       "'Hola Ana, tienes 30 años'"
      ]
     },
     "execution_count": 23,
     "metadata": {},
     "output_type": "execute_result"
    }
   ],
   "source": [
    "frase = f\"Hola {nombre}, tienes {edad} años\"\n",
    "frase"
   ]
  },
  {
   "cell_type": "code",
   "execution_count": null,
   "id": "6a012b13-14f2-43d9-bd4e-302862480edb",
   "metadata": {},
   "outputs": [],
   "source": []
  }
 ],
 "metadata": {
  "kernelspec": {
   "display_name": "Python 3 (ipykernel)",
   "language": "python",
   "name": "python3"
  },
  "language_info": {
   "codemirror_mode": {
    "name": "ipython",
    "version": 3
   },
   "file_extension": ".py",
   "mimetype": "text/x-python",
   "name": "python",
   "nbconvert_exporter": "python",
   "pygments_lexer": "ipython3",
   "version": "3.11.7"
  }
 },
 "nbformat": 4,
 "nbformat_minor": 5
}
