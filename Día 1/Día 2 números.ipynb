{
 "cells": [
  {
   "cell_type": "code",
   "execution_count": null,
   "id": "699cadbd-ccde-404c-b29a-cadd86b25f2a",
   "metadata": {},
   "outputs": [],
   "source": [
    "type(5)"
   ]
  },
  {
   "cell_type": "code",
   "execution_count": null,
   "id": "1e45c2b6-7a10-4ba4-9274-ef0716e1b23c",
   "metadata": {},
   "outputs": [],
   "source": [
    "type(4.5)"
   ]
  },
  {
   "cell_type": "code",
   "execution_count": null,
   "id": "0f29b53f-b829-4d56-aefa-2d036eb65b53",
   "metadata": {},
   "outputs": [],
   "source": [
    "print(type(-2.5))\n",
    "print(type(0.0001))\n",
    "print(type(246.25354478953))"
   ]
  },
  {
   "cell_type": "code",
   "execution_count": null,
   "id": "d07887df-31da-4407-983a-9e60e5b97546",
   "metadata": {},
   "outputs": [],
   "source": [
    "3 + 4j"
   ]
  },
  {
   "cell_type": "code",
   "execution_count": null,
   "id": "a042fc90-1e42-416d-904c-f8301c233937",
   "metadata": {},
   "outputs": [],
   "source": [
    "-5.2 - 5J"
   ]
  },
  {
   "cell_type": "code",
   "execution_count": null,
   "id": "44f4e2e0-0fee-4919-aeca-f0b58837018c",
   "metadata": {},
   "outputs": [],
   "source": [
    "type(3 + 4j)"
   ]
  },
  {
   "cell_type": "code",
   "execution_count": null,
   "id": "ee518b73-bad8-4dab-9eb5-3cc719d55a03",
   "metadata": {},
   "outputs": [],
   "source": [
    "complex(3, 2)"
   ]
  },
  {
   "cell_type": "code",
   "execution_count": null,
   "id": "04103740-2565-4608-9545-8b5dc09b2bbe",
   "metadata": {},
   "outputs": [],
   "source": [
    "a = complex(3, 2)"
   ]
  },
  {
   "cell_type": "code",
   "execution_count": null,
   "id": "89443071-ef6b-49a2-88d8-26660b5d4e62",
   "metadata": {},
   "outputs": [],
   "source": [
    "a"
   ]
  },
  {
   "cell_type": "code",
   "execution_count": null,
   "id": "8dcc87de-6192-4935-b10c-5e3b7cccf30d",
   "metadata": {},
   "outputs": [],
   "source": [
    "type(a)"
   ]
  },
  {
   "cell_type": "code",
   "execution_count": null,
   "id": "8d6e72cc-6c51-47ed-a971-18baf8b31eda",
   "metadata": {},
   "outputs": [],
   "source": []
  }
 ],
 "metadata": {
  "kernelspec": {
   "display_name": "base",
   "language": "python",
   "name": "python3"
  },
  "language_info": {
   "codemirror_mode": {
    "name": "ipython",
    "version": 3
   },
   "file_extension": ".py",
   "mimetype": "text/x-python",
   "name": "python",
   "nbconvert_exporter": "python",
   "pygments_lexer": "ipython3",
   "version": "3.12.7"
  }
 },
 "nbformat": 4,
 "nbformat_minor": 5
}
